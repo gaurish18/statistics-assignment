{
 "cells": [
  {
   "cell_type": "markdown",
   "id": "95ba27eb-9482-44c2-b149-ddfb607cb8a6",
   "metadata": {},
   "source": [
    "1.Statistics is the science of collecting, organizing and analyzing the data\n",
    "\n",
    "2.Descriptive Statistics and Inferential Statics \n",
    "   Descriptive statistics consist of organizing and summerizing the data. eg.measure of central tendency(mean ,median, mode),        Measure of dispersion(standard deviation , variance)\n",
    "   \n",
    "   Inferential statics consists of using data you have measured to form conclusion. eg. z-test, t-test\n",
    "\n",
    "3.The difference types of datas are as follows quantitative and qualitative. Quantitative is furthur divided into discrete and     continious and qualitative is divided into nominal and ordinal.\n",
    "   examples of each type of data:\n",
    "    a) Discrete - no. of bank accounts\n",
    "    b) continious - weight and height of person\n",
    "    c) nominal - gender, blood group\n",
    "    d) ordinal - ranking wise reviews such as good, satisfactoy and bad\n",
    "\n",
    "4.(i)-discrete\n",
    "  (ii)-nominal\n",
    "  (iii)-continious\n",
    "  (iv)-discrete\n",
    "\n",
    "5.Level of measurement or scale of measure is a classification that describes the nature of information within the values      \n",
    "  assigned to variables.\n",
    "  The four level of measurement are ;\n",
    "  a)Nominal-eg.gender,colours \n",
    "  b)ordinal-eg.marks obtained by students\n",
    "  c)interval-eg.measuring temperature\n",
    "  d)ratio-eg.area and population\n",
    "  "
   ]
  },
  {
   "cell_type": "markdown",
   "id": "26f01ee0-fcc3-431c-bc17-0ee88f0bb692",
   "metadata": {},
   "source": [
    "6.Understanding the level of measurement is important when analyzing data because it helps to determine the appropriate statistical analyses and methods that can be used to draw valid conclusions from the data. Different types of data require different levels of measurement, and different levels of measurement dictate what statistical tests are appropriate for analyzing the data.\n",
    "\n",
    "For example, suppose we want to analyze the relationship between a person's height and weight. If we measure height in centimeters and weight in kilograms, we have ratio data for both variables, and we can use correlation and regression analysis to determine the strength and direction of the relationship between height and weight. However, if we measure height in categories such as \"short,\" \"medium,\" and \"tall\" and weight in categories such as \"light,\" \"average,\" and \"heavy,\" we have ordinal data for both variables, and we can use non-parametric tests such as chi-square to analyze the relationship between the two variables.\n",
    "\n",
    "7.Nominal data and ordinal data are both categorical data types, but they differ in the way that the categories are organized.\n",
    "\n",
    "The main difference between nominal and ordinal data is that nominal data does not have a meaningful order or sequence, while ordinal data does. Nominal data consists of categories that are mutually exclusive and exhaustive, while ordinal data consists of categories that can be ranked or ordered.\n",
    "\n",
    "8.A box plot (also known as a box-and-whisker plot) is a type of plot that can be used to display data in terms of range. A box plot provides a visual summary of the distribution of a dataset by displaying the median, quartiles, and outliers of the data.\n",
    "\n",
    "9.Descriptive statistics are used to summarize and describe the characteristics of a dataset. They provide a way to organize and present data in a meaningful way, such as measures of central tendency (e.g., mean, median, mode), measures of dispersion (e.g., range, variance, standard deviation), and graphical representations (e.g., histograms, box plots). Descriptive statistics are used to give an overview of the data and to identify patterns or trends that may be present. For example, a researcher might use descriptive statistics to summarize the results of a survey by calculating the average score, range, and standard deviation of responses to each question.\n",
    "\n",
    "In contrast, inferential statistics are used to make inferences or predictions about a population based on a sample of data. They involve using statistical tests to determine whether differences or relationships observed in the sample data are statistically significant and can be generalized to the larger population. Inferential statistics are used to draw conclusions about a population based on a sample, and to make predictions or hypotheses about future observations. For example, a researcher might use inferential statistics to test whether there is a significant difference in the average test scores between two groups of students, and to determine whether this difference can be generalized to the larger population of students.\n",
    "\n",
    "To illustrate the difference between descriptive and inferential statistics, consider a study on the heights of students in a particular school. Descriptive statistics would be used to summarize the data by calculating measures of central tendency (e.g., mean height), measures of dispersion (e.g., range, standard deviation), and creating a histogram or box plot of the data. These statistics would provide an overview of the distribution of heights among the students in the school.\n",
    "\n",
    "In contrast, inferential statistics would be used to make inferences or predictions about the population of students based on a sample of students. For example, a researcher might select a sample of 100 students from the school and use inferential statistics to test whether the average height of the sample is significantly different from the average height of the entire student population. The results of this test would allow the researcher to make predictions or hypotheses about the heights of students in the larger population based on the sample data.\n",
    "\n",
    "10.Measures of central tendency and variability are commonly used in statistics to describe the characteristics of a dataset. Central tendency measures describe the typical or average value of the data, while variability measures describe how much the data varies from the central tendency.\n",
    "\n",
    "Here are some common measures of central tendency and variability used in statistics:\n",
    "\n",
    "a)Mean: The mean is the arithmetic average of a dataset. It is calculated by summing up all the data points and dividing        by the total number of data points. The mean is sensitive to outliers and extreme values and can be used to describe        the central tendency of a normally distributed dataset.\n",
    "\n",
    "b)Median: The median is the middle value of a dataset when the data is sorted in order. It is not affected by extreme          values and can be used to describe the central tendency of a skewed dataset.\n",
    "\n",
    "c)Mode: The mode is the most frequently occurring value in a dataset. It can be used to describe the central tendency of a      categorical or nominal dataset.\n",
    "\n",
    "d)Range: The range is the difference between the highest and lowest values in a dataset. It provides an idea of how spread     out the data is.\n",
    "\n",
    "e)Standard Deviation: The standard deviation is a measure of how much the data varies from the mean. It is calculated by       taking the square root of the variance, which is the average of the squared differences from the mean. A larger standard     deviation indicates that the data is more spread out.\n",
    "\n",
    "f)Interquartile Range (IQR): The IQR is the range of the middle 50% of the data in a dataset. It is calculated by            subtracting the value of the 25th percentile from the 75th percentile. It provides a measure of the spread of the data that   is less sensitive to extreme values than the range.\n",
    "\n",
    "\n"
   ]
  }
 ],
 "metadata": {
  "kernelspec": {
   "display_name": "Python 3 (ipykernel)",
   "language": "python",
   "name": "python3"
  },
  "language_info": {
   "codemirror_mode": {
    "name": "ipython",
    "version": 3
   },
   "file_extension": ".py",
   "mimetype": "text/x-python",
   "name": "python",
   "nbconvert_exporter": "python",
   "pygments_lexer": "ipython3",
   "version": "3.10.8"
  }
 },
 "nbformat": 4,
 "nbformat_minor": 5
}
